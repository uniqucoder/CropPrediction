{
 "cells": [
  {
   "cell_type": "markdown",
   "metadata": {},
   "source": [
    "# Crop Prediction System"
   ]
  },
  {
   "cell_type": "markdown",
   "metadata": {},
   "source": [
    "**Importing Lab**"
   ]
  },
  {
   "cell_type": "code",
   "execution_count": 1,
   "metadata": {},
   "outputs": [],
   "source": [
    "import numpy as np\n",
    "import pandas as pd\n",
    "import matplotlib.pyplot as plt\n"
   ]
  },
  {
   "cell_type": "markdown",
   "metadata": {},
   "source": [
    "**Reading Dataset**"
   ]
  },
  {
   "cell_type": "code",
   "execution_count": 2,
   "metadata": {
    "scrolled": true
   },
   "outputs": [
    {
     "data": {
      "text/html": [
       "<div>\n",
       "<style scoped>\n",
       "    .dataframe tbody tr th:only-of-type {\n",
       "        vertical-align: middle;\n",
       "    }\n",
       "\n",
       "    .dataframe tbody tr th {\n",
       "        vertical-align: top;\n",
       "    }\n",
       "\n",
       "    .dataframe thead th {\n",
       "        text-align: right;\n",
       "    }\n",
       "</style>\n",
       "<table border=\"1\" class=\"dataframe\">\n",
       "  <thead>\n",
       "    <tr style=\"text-align: right;\">\n",
       "      <th></th>\n",
       "      <th>srno</th>\n",
       "      <th>Sowing_Time</th>\n",
       "      <th>Region</th>\n",
       "      <th>Min_Temp</th>\n",
       "      <th>Max_Temp</th>\n",
       "      <th>Soil_pH</th>\n",
       "      <th>Soil_Type</th>\n",
       "      <th>Min_Rainfall</th>\n",
       "      <th>Max_Rainfall</th>\n",
       "      <th>Rainfall</th>\n",
       "      <th>Temperature</th>\n",
       "      <th>Crop</th>\n",
       "    </tr>\n",
       "  </thead>\n",
       "  <tbody>\n",
       "    <tr>\n",
       "      <th>0</th>\n",
       "      <td>0</td>\n",
       "      <td>june</td>\n",
       "      <td>andhra pradesh</td>\n",
       "      <td>20</td>\n",
       "      <td>31</td>\n",
       "      <td>6.0</td>\n",
       "      <td>black cotton soil</td>\n",
       "      <td>25.0</td>\n",
       "      <td>60.0</td>\n",
       "      <td>42.5</td>\n",
       "      <td>25.5</td>\n",
       "      <td>bajra</td>\n",
       "    </tr>\n",
       "    <tr>\n",
       "      <th>1</th>\n",
       "      <td>1</td>\n",
       "      <td>july</td>\n",
       "      <td>andhra pradesh</td>\n",
       "      <td>20</td>\n",
       "      <td>31</td>\n",
       "      <td>6.0</td>\n",
       "      <td>black cotton soil</td>\n",
       "      <td>25.0</td>\n",
       "      <td>60.0</td>\n",
       "      <td>42.5</td>\n",
       "      <td>25.5</td>\n",
       "      <td>bajra</td>\n",
       "    </tr>\n",
       "    <tr>\n",
       "      <th>2</th>\n",
       "      <td>2</td>\n",
       "      <td>january</td>\n",
       "      <td>andhra pradesh</td>\n",
       "      <td>20</td>\n",
       "      <td>31</td>\n",
       "      <td>6.0</td>\n",
       "      <td>black cotton soil</td>\n",
       "      <td>25.0</td>\n",
       "      <td>60.0</td>\n",
       "      <td>42.5</td>\n",
       "      <td>25.5</td>\n",
       "      <td>bajra</td>\n",
       "    </tr>\n",
       "    <tr>\n",
       "      <th>3</th>\n",
       "      <td>3</td>\n",
       "      <td>february</td>\n",
       "      <td>andhra pradesh</td>\n",
       "      <td>20</td>\n",
       "      <td>31</td>\n",
       "      <td>6.0</td>\n",
       "      <td>black cotton soil</td>\n",
       "      <td>25.0</td>\n",
       "      <td>60.0</td>\n",
       "      <td>42.5</td>\n",
       "      <td>25.5</td>\n",
       "      <td>bajra</td>\n",
       "    </tr>\n",
       "    <tr>\n",
       "      <th>4</th>\n",
       "      <td>4</td>\n",
       "      <td>march</td>\n",
       "      <td>andhra pradesh</td>\n",
       "      <td>20</td>\n",
       "      <td>31</td>\n",
       "      <td>6.0</td>\n",
       "      <td>black cotton soil</td>\n",
       "      <td>25.0</td>\n",
       "      <td>60.0</td>\n",
       "      <td>42.5</td>\n",
       "      <td>25.5</td>\n",
       "      <td>bajra</td>\n",
       "    </tr>\n",
       "  </tbody>\n",
       "</table>\n",
       "</div>"
      ],
      "text/plain": [
       "   srno Sowing_Time          Region  Min_Temp  Max_Temp  Soil_pH  \\\n",
       "0     0        june  andhra pradesh        20        31      6.0   \n",
       "1     1        july  andhra pradesh        20        31      6.0   \n",
       "2     2     january  andhra pradesh        20        31      6.0   \n",
       "3     3    february  andhra pradesh        20        31      6.0   \n",
       "4     4       march  andhra pradesh        20        31      6.0   \n",
       "\n",
       "           Soil_Type  Min_Rainfall  Max_Rainfall  Rainfall  Temperature   Crop  \n",
       "0  black cotton soil          25.0          60.0      42.5         25.5  bajra  \n",
       "1  black cotton soil          25.0          60.0      42.5         25.5  bajra  \n",
       "2  black cotton soil          25.0          60.0      42.5         25.5  bajra  \n",
       "3  black cotton soil          25.0          60.0      42.5         25.5  bajra  \n",
       "4  black cotton soil          25.0          60.0      42.5         25.5  bajra  "
      ]
     },
     "execution_count": 2,
     "metadata": {},
     "output_type": "execute_result"
    }
   ],
   "source": [
    "dataset = pd.read_csv(\"crop-data.csv\")\n",
    "dataset.head()"
   ]
  },
  {
   "cell_type": "code",
   "execution_count": 3,
   "metadata": {
    "scrolled": true
   },
   "outputs": [
    {
     "data": {
      "text/plain": [
       "srno            False\n",
       "Sowing_Time     False\n",
       "Region          False\n",
       "Min_Temp        False\n",
       "Max_Temp        False\n",
       "Soil_pH         False\n",
       "Soil_Type       False\n",
       "Min_Rainfall    False\n",
       "Max_Rainfall    False\n",
       "Rainfall        False\n",
       "Temperature     False\n",
       "Crop            False\n",
       "dtype: bool"
      ]
     },
     "execution_count": 3,
     "metadata": {},
     "output_type": "execute_result"
    }
   ],
   "source": [
    "# Finding the missing values \n",
    "dataset.isna().any() \n",
    "  \n",
    "# Finding if missing values  \n",
    "dataset.isnull().any() "
   ]
  },
  {
   "cell_type": "markdown",
   "metadata": {},
   "source": [
    "**Drop unnecessary column from Data set**"
   ]
  },
  {
   "cell_type": "code",
   "execution_count": 4,
   "metadata": {},
   "outputs": [],
   "source": [
    "dataset = dataset.drop(['srno'] ,axis=1)"
   ]
  },
  {
   "cell_type": "code",
   "execution_count": 5,
   "metadata": {
    "scrolled": true
   },
   "outputs": [
    {
     "data": {
      "text/html": [
       "<div>\n",
       "<style scoped>\n",
       "    .dataframe tbody tr th:only-of-type {\n",
       "        vertical-align: middle;\n",
       "    }\n",
       "\n",
       "    .dataframe tbody tr th {\n",
       "        vertical-align: top;\n",
       "    }\n",
       "\n",
       "    .dataframe thead th {\n",
       "        text-align: right;\n",
       "    }\n",
       "</style>\n",
       "<table border=\"1\" class=\"dataframe\">\n",
       "  <thead>\n",
       "    <tr style=\"text-align: right;\">\n",
       "      <th></th>\n",
       "      <th>Sowing_Time</th>\n",
       "      <th>Region</th>\n",
       "      <th>Min_Temp</th>\n",
       "      <th>Max_Temp</th>\n",
       "      <th>Soil_pH</th>\n",
       "      <th>Soil_Type</th>\n",
       "      <th>Min_Rainfall</th>\n",
       "      <th>Max_Rainfall</th>\n",
       "      <th>Rainfall</th>\n",
       "      <th>Temperature</th>\n",
       "      <th>Crop</th>\n",
       "    </tr>\n",
       "  </thead>\n",
       "  <tbody>\n",
       "    <tr>\n",
       "      <th>0</th>\n",
       "      <td>june</td>\n",
       "      <td>andhra pradesh</td>\n",
       "      <td>20</td>\n",
       "      <td>31</td>\n",
       "      <td>6.0</td>\n",
       "      <td>black cotton soil</td>\n",
       "      <td>25.0</td>\n",
       "      <td>60.0</td>\n",
       "      <td>42.5</td>\n",
       "      <td>25.5</td>\n",
       "      <td>bajra</td>\n",
       "    </tr>\n",
       "    <tr>\n",
       "      <th>1</th>\n",
       "      <td>july</td>\n",
       "      <td>andhra pradesh</td>\n",
       "      <td>20</td>\n",
       "      <td>31</td>\n",
       "      <td>6.0</td>\n",
       "      <td>black cotton soil</td>\n",
       "      <td>25.0</td>\n",
       "      <td>60.0</td>\n",
       "      <td>42.5</td>\n",
       "      <td>25.5</td>\n",
       "      <td>bajra</td>\n",
       "    </tr>\n",
       "    <tr>\n",
       "      <th>2</th>\n",
       "      <td>january</td>\n",
       "      <td>andhra pradesh</td>\n",
       "      <td>20</td>\n",
       "      <td>31</td>\n",
       "      <td>6.0</td>\n",
       "      <td>black cotton soil</td>\n",
       "      <td>25.0</td>\n",
       "      <td>60.0</td>\n",
       "      <td>42.5</td>\n",
       "      <td>25.5</td>\n",
       "      <td>bajra</td>\n",
       "    </tr>\n",
       "    <tr>\n",
       "      <th>3</th>\n",
       "      <td>february</td>\n",
       "      <td>andhra pradesh</td>\n",
       "      <td>20</td>\n",
       "      <td>31</td>\n",
       "      <td>6.0</td>\n",
       "      <td>black cotton soil</td>\n",
       "      <td>25.0</td>\n",
       "      <td>60.0</td>\n",
       "      <td>42.5</td>\n",
       "      <td>25.5</td>\n",
       "      <td>bajra</td>\n",
       "    </tr>\n",
       "    <tr>\n",
       "      <th>4</th>\n",
       "      <td>march</td>\n",
       "      <td>andhra pradesh</td>\n",
       "      <td>20</td>\n",
       "      <td>31</td>\n",
       "      <td>6.0</td>\n",
       "      <td>black cotton soil</td>\n",
       "      <td>25.0</td>\n",
       "      <td>60.0</td>\n",
       "      <td>42.5</td>\n",
       "      <td>25.5</td>\n",
       "      <td>bajra</td>\n",
       "    </tr>\n",
       "  </tbody>\n",
       "</table>\n",
       "</div>"
      ],
      "text/plain": [
       "  Sowing_Time          Region  Min_Temp  Max_Temp  Soil_pH          Soil_Type  \\\n",
       "0        june  andhra pradesh        20        31      6.0  black cotton soil   \n",
       "1        july  andhra pradesh        20        31      6.0  black cotton soil   \n",
       "2     january  andhra pradesh        20        31      6.0  black cotton soil   \n",
       "3    february  andhra pradesh        20        31      6.0  black cotton soil   \n",
       "4       march  andhra pradesh        20        31      6.0  black cotton soil   \n",
       "\n",
       "   Min_Rainfall  Max_Rainfall  Rainfall  Temperature   Crop  \n",
       "0          25.0          60.0      42.5         25.5  bajra  \n",
       "1          25.0          60.0      42.5         25.5  bajra  \n",
       "2          25.0          60.0      42.5         25.5  bajra  \n",
       "3          25.0          60.0      42.5         25.5  bajra  \n",
       "4          25.0          60.0      42.5         25.5  bajra  "
      ]
     },
     "execution_count": 5,
     "metadata": {},
     "output_type": "execute_result"
    }
   ],
   "source": [
    "dataset.head()"
   ]
  },
  {
   "cell_type": "code",
   "execution_count": null,
   "metadata": {},
   "outputs": [],
   "source": []
  },
  {
   "cell_type": "markdown",
   "metadata": {},
   "source": [
    "**ML model understand only numeric data so replace are string with numeric data such as replace females with 0 and male with 1\n",
    "    and same with last column Placed**"
   ]
  },
  {
   "cell_type": "code",
   "execution_count": 6,
   "metadata": {},
   "outputs": [
    {
     "data": {
      "text/html": [
       "<div>\n",
       "<style scoped>\n",
       "    .dataframe tbody tr th:only-of-type {\n",
       "        vertical-align: middle;\n",
       "    }\n",
       "\n",
       "    .dataframe tbody tr th {\n",
       "        vertical-align: top;\n",
       "    }\n",
       "\n",
       "    .dataframe thead th {\n",
       "        text-align: right;\n",
       "    }\n",
       "</style>\n",
       "<table border=\"1\" class=\"dataframe\">\n",
       "  <thead>\n",
       "    <tr style=\"text-align: right;\">\n",
       "      <th></th>\n",
       "      <th>Sowing_Time</th>\n",
       "      <th>Region</th>\n",
       "      <th>Min_Temp</th>\n",
       "      <th>Max_Temp</th>\n",
       "      <th>Soil_pH</th>\n",
       "      <th>Soil_Type</th>\n",
       "      <th>Min_Rainfall</th>\n",
       "      <th>Max_Rainfall</th>\n",
       "      <th>Rainfall</th>\n",
       "      <th>Temperature</th>\n",
       "      <th>Crop</th>\n",
       "    </tr>\n",
       "  </thead>\n",
       "  <tbody>\n",
       "    <tr>\n",
       "      <th>0</th>\n",
       "      <td>6</td>\n",
       "      <td>1</td>\n",
       "      <td>20</td>\n",
       "      <td>31</td>\n",
       "      <td>6.0</td>\n",
       "      <td>1</td>\n",
       "      <td>25.0</td>\n",
       "      <td>60.0</td>\n",
       "      <td>42.5</td>\n",
       "      <td>25.5</td>\n",
       "      <td>bajra</td>\n",
       "    </tr>\n",
       "    <tr>\n",
       "      <th>1</th>\n",
       "      <td>5</td>\n",
       "      <td>1</td>\n",
       "      <td>20</td>\n",
       "      <td>31</td>\n",
       "      <td>6.0</td>\n",
       "      <td>1</td>\n",
       "      <td>25.0</td>\n",
       "      <td>60.0</td>\n",
       "      <td>42.5</td>\n",
       "      <td>25.5</td>\n",
       "      <td>bajra</td>\n",
       "    </tr>\n",
       "    <tr>\n",
       "      <th>2</th>\n",
       "      <td>4</td>\n",
       "      <td>1</td>\n",
       "      <td>20</td>\n",
       "      <td>31</td>\n",
       "      <td>6.0</td>\n",
       "      <td>1</td>\n",
       "      <td>25.0</td>\n",
       "      <td>60.0</td>\n",
       "      <td>42.5</td>\n",
       "      <td>25.5</td>\n",
       "      <td>bajra</td>\n",
       "    </tr>\n",
       "    <tr>\n",
       "      <th>3</th>\n",
       "      <td>3</td>\n",
       "      <td>1</td>\n",
       "      <td>20</td>\n",
       "      <td>31</td>\n",
       "      <td>6.0</td>\n",
       "      <td>1</td>\n",
       "      <td>25.0</td>\n",
       "      <td>60.0</td>\n",
       "      <td>42.5</td>\n",
       "      <td>25.5</td>\n",
       "      <td>bajra</td>\n",
       "    </tr>\n",
       "    <tr>\n",
       "      <th>4</th>\n",
       "      <td>7</td>\n",
       "      <td>1</td>\n",
       "      <td>20</td>\n",
       "      <td>31</td>\n",
       "      <td>6.0</td>\n",
       "      <td>1</td>\n",
       "      <td>25.0</td>\n",
       "      <td>60.0</td>\n",
       "      <td>42.5</td>\n",
       "      <td>25.5</td>\n",
       "      <td>bajra</td>\n",
       "    </tr>\n",
       "  </tbody>\n",
       "</table>\n",
       "</div>"
      ],
      "text/plain": [
       "   Sowing_Time  Region  Min_Temp  Max_Temp  Soil_pH  Soil_Type  Min_Rainfall  \\\n",
       "0            6       1        20        31      6.0          1          25.0   \n",
       "1            5       1        20        31      6.0          1          25.0   \n",
       "2            4       1        20        31      6.0          1          25.0   \n",
       "3            3       1        20        31      6.0          1          25.0   \n",
       "4            7       1        20        31      6.0          1          25.0   \n",
       "\n",
       "   Max_Rainfall  Rainfall  Temperature   Crop  \n",
       "0          60.0      42.5         25.5  bajra  \n",
       "1          60.0      42.5         25.5  bajra  \n",
       "2          60.0      42.5         25.5  bajra  \n",
       "3          60.0      42.5         25.5  bajra  \n",
       "4          60.0      42.5         25.5  bajra  "
      ]
     },
     "execution_count": 6,
     "metadata": {},
     "output_type": "execute_result"
    }
   ],
   "source": [
    "\n",
    "# Import LabelEncoder\n",
    "from sklearn import preprocessing\n",
    "#creating labelEncoder\n",
    "le = preprocessing.LabelEncoder()\n",
    "\n",
    "#Encoding\n",
    "dataset['Sowing_Time'] = le.fit_transform(dataset['Sowing_Time'])\n",
    "dataset['Soil_Type'] =le.fit_transform(dataset['Soil_Type'])\n",
    "dataset['Region'] =le.fit_transform(dataset['Region'])\n",
    "\n",
    "dataset.head()\n"
   ]
  },
  {
   "cell_type": "markdown",
   "metadata": {},
   "source": [
    "**Done with data prerocessing**"
   ]
  },
  {
   "cell_type": "markdown",
   "metadata": {},
   "source": [
    "***In our data set dependent variable is \"Placed\" and rest all are independent variables lets split data set into independent and dependent variable***"
   ]
  },
  {
   "cell_type": "code",
   "execution_count": 7,
   "metadata": {},
   "outputs": [],
   "source": [
    "# X is independent variable\n",
    "X = dataset.iloc[:, range(0, 10)].values"
   ]
  },
  {
   "cell_type": "code",
   "execution_count": 8,
   "metadata": {},
   "outputs": [
    {
     "data": {
      "text/plain": [
       "array([[  6. ,   1. ,  20. , ...,  60. ,  42.5,  25.5],\n",
       "       [  5. ,   1. ,  20. , ...,  60. ,  42.5,  25.5],\n",
       "       [  4. ,   1. ,  20. , ...,  60. ,  42.5,  25.5],\n",
       "       ...,\n",
       "       [ 11. ,  40. ,  10. , ..., 400. , 300. ,  12.5],\n",
       "       [ 10. ,  40. ,  10. , ..., 400. , 300. ,  12.5],\n",
       "       [  9. ,  40. ,  10. , ..., 400. , 300. ,  12.5]])"
      ]
     },
     "execution_count": 8,
     "metadata": {},
     "output_type": "execute_result"
    }
   ],
   "source": [
    "X"
   ]
  },
  {
   "cell_type": "code",
   "execution_count": 9,
   "metadata": {},
   "outputs": [],
   "source": [
    "# Y is Dependent Variable\n",
    "y = dataset.iloc[:, 10].values"
   ]
  },
  {
   "cell_type": "code",
   "execution_count": 10,
   "metadata": {},
   "outputs": [
    {
     "data": {
      "text/plain": [
       "array(['bajra', 'bajra', 'bajra', ..., 'turnip', 'turnip', 'turnip'],\n",
       "      dtype=object)"
      ]
     },
     "execution_count": 10,
     "metadata": {},
     "output_type": "execute_result"
    }
   ],
   "source": [
    "y"
   ]
  },
  {
   "cell_type": "markdown",
   "metadata": {},
   "source": [
    "**Splitting the dataset into the Training set and Test set**"
   ]
  },
  {
   "cell_type": "code",
   "execution_count": 11,
   "metadata": {},
   "outputs": [],
   "source": [
    "from sklearn.model_selection import train_test_split\n",
    "X_train, X_test, y_train, y_test = train_test_split(X, y, test_size = 0.25, random_state = 0)"
   ]
  },
  {
   "cell_type": "code",
   "execution_count": 12,
   "metadata": {},
   "outputs": [
    {
     "name": "stdout",
     "output_type": "stream",
     "text": [
      "['jackfruit' 'groundnut' 'wheat' ... 'guava' 'dillseed' 'ashwagandha']\n"
     ]
    }
   ],
   "source": [
    "print(y_train)"
   ]
  },
  {
   "cell_type": "code",
   "execution_count": 13,
   "metadata": {},
   "outputs": [
    {
     "name": "stdout",
     "output_type": "stream",
     "text": [
      "(3693, 10)\n",
      "(3693,)\n",
      "(1231, 10)\n",
      "(1231,)\n"
     ]
    }
   ],
   "source": [
    "print(X_train.shape)\n",
    "print(y_train.shape)\n",
    "print(X_test.shape)\n",
    "print(y_test.shape)"
   ]
  },
  {
   "cell_type": "code",
   "execution_count": 24,
   "metadata": {},
   "outputs": [
    {
     "data": {
      "text/plain": [
       "DecisionTreeClassifier(ccp_alpha=0.0, class_weight=None, criterion='entropy',\n",
       "                       max_depth=10, max_features=None, max_leaf_nodes=None,\n",
       "                       min_impurity_decrease=0.0, min_impurity_split=None,\n",
       "                       min_samples_leaf=10, min_samples_split=2,\n",
       "                       min_weight_fraction_leaf=0.0, presort='deprecated',\n",
       "                       random_state=100, splitter='best')"
      ]
     },
     "execution_count": 24,
     "metadata": {},
     "output_type": "execute_result"
    }
   ],
   "source": [
    "from sklearn.tree import DecisionTreeClassifier\n",
    "clf_gini = DecisionTreeClassifier(criterion = \"entropy\",\n",
    "            random_state = 100,max_depth=10, min_samples_leaf=10)\n",
    "clf_gini.fit(X_train, y_train)"
   ]
  },
  {
   "cell_type": "code",
   "execution_count": 26,
   "metadata": {},
   "outputs": [],
   "source": [
    "y_pred=clf_gini.predict(X_test)"
   ]
  },
  {
   "cell_type": "code",
   "execution_count": 29,
   "metadata": {},
   "outputs": [
    {
     "data": {
      "text/plain": [
       "93.74492282696994"
      ]
     },
     "execution_count": 29,
     "metadata": {},
     "output_type": "execute_result"
    }
   ],
   "source": [
    "from sklearn.metrics import accuracy_score\n",
    "accuracy_score(y_test,y_pred)*100"
   ]
  },
  {
   "cell_type": "markdown",
   "metadata": {},
   "source": [
    "**Input Answer**"
   ]
  },
  {
   "cell_type": "code",
   "execution_count": 41,
   "metadata": {},
   "outputs": [
    {
     "name": "stdout",
     "output_type": "stream",
     "text": [
      "['lily']\n"
     ]
    }
   ],
   "source": [
    "ans = clf_gini.predict([[0,1,18,22,6.5,5,0,0,0,20]])\n",
    "print(ans)"
   ]
  },
  {
   "cell_type": "markdown",
   "metadata": {},
   "source": [
    "**Fitting K-NN to the Training set**"
   ]
  },
  {
   "cell_type": "code",
   "execution_count": 49,
   "metadata": {},
   "outputs": [
    {
     "data": {
      "text/plain": [
       "KNeighborsClassifier(algorithm='auto', leaf_size=30, metric='minkowski',\n",
       "                     metric_params=None, n_jobs=None, n_neighbors=5, p=2,\n",
       "                     weights='uniform')"
      ]
     },
     "execution_count": 49,
     "metadata": {},
     "output_type": "execute_result"
    }
   ],
   "source": []
  },
  {
   "cell_type": "markdown",
   "metadata": {},
   "source": [
    "**Predicting the Test set results**"
   ]
  },
  {
   "cell_type": "code",
   "execution_count": 50,
   "metadata": {},
   "outputs": [],
   "source": [
    "\n"
   ]
  },
  {
   "cell_type": "markdown",
   "metadata": {},
   "source": [
    "**Test Accuracy of test and pred**"
   ]
  },
  {
   "cell_type": "code",
   "execution_count": 51,
   "metadata": {},
   "outputs": [
    {
     "data": {
      "text/plain": [
       "0.925264012997563"
      ]
     },
     "execution_count": 51,
     "metadata": {},
     "output_type": "execute_result"
    }
   ],
   "source": []
  },
  {
   "cell_type": "markdown",
   "metadata": {},
   "source": [
    "**Making the Confusion Matrix**"
   ]
  },
  {
   "cell_type": "code",
   "execution_count": 52,
   "metadata": {},
   "outputs": [],
   "source": []
  },
  {
   "cell_type": "markdown",
   "metadata": {},
   "source": [
    "**Store model using pickel**"
   ]
  },
  {
   "cell_type": "code",
   "execution_count": 33,
   "metadata": {},
   "outputs": [],
   "source": [
    "import pickle"
   ]
  },
  {
   "cell_type": "code",
   "execution_count": 69,
   "metadata": {},
   "outputs": [
    {
     "name": "stdout",
     "output_type": "stream",
     "text": [
      "[14  7  2 ... 88 23 56]\n"
     ]
    }
   ],
   "source": [
    " print(y_pred)"
   ]
  },
  {
   "cell_type": "code",
   "execution_count": 36,
   "metadata": {},
   "outputs": [],
   "source": [
    "filename ='model_done_correct'\n",
    "pickle.dump(clf_gini, open(filename, 'wb'))"
   ]
  },
  {
   "cell_type": "code",
   "execution_count": 38,
   "metadata": {},
   "outputs": [
    {
     "data": {
      "text/plain": [
       "array(['jowar', 'tulsi', 'lotus', ..., 'radish', 'castor', 'sago'],\n",
       "      dtype=object)"
      ]
     },
     "execution_count": 38,
     "metadata": {},
     "output_type": "execute_result"
    }
   ],
   "source": [
    "pred_result = clf_gini.predict(X_test)\n",
    "pred_result"
   ]
  },
  {
   "cell_type": "code",
   "execution_count": 39,
   "metadata": {},
   "outputs": [
    {
     "data": {
      "text/plain": [
       "array(['jowar', 'tulsi', 'lotus', ..., 'radish', 'castor', 'sago'],\n",
       "      dtype=object)"
      ]
     },
     "execution_count": 39,
     "metadata": {},
     "output_type": "execute_result"
    }
   ],
   "source": [
    "loaded_model = pickle.load(open(filename,'rb'))\n",
    "loaded_model.predict(X_test)"
   ]
  },
  {
   "cell_type": "code",
   "execution_count": 40,
   "metadata": {},
   "outputs": [
    {
     "data": {
      "text/plain": [
       "array(['cauliflower'], dtype=object)"
      ]
     },
     "execution_count": 40,
     "metadata": {},
     "output_type": "execute_result"
    }
   ],
   "source": [
    "pred_result = clf_gini.predict([[2,18,22,6,5,2,0,0,0,20]])\n"
   ]
  },
  {
   "cell_type": "code",
   "execution_count": null,
   "metadata": {},
   "outputs": [],
   "source": []
  }
 ],
 "metadata": {
  "kernelspec": {
   "display_name": "Python 3",
   "language": "python",
   "name": "python3"
  },
  "language_info": {
   "codemirror_mode": {
    "name": "ipython",
    "version": 3
   },
   "file_extension": ".py",
   "mimetype": "text/x-python",
   "name": "python",
   "nbconvert_exporter": "python",
   "pygments_lexer": "ipython3",
   "version": "3.7.6"
  }
 },
 "nbformat": 4,
 "nbformat_minor": 4
}
